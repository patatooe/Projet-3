{
 "cells": [
  {
   "cell_type": "code",
   "execution_count": 6,
   "metadata": {},
   "outputs": [
    {
     "name": "stdout",
     "output_type": "stream",
     "text": [
      "\n",
      "        ##################################################\n",
      "         ATTENTION! : CRITÈRE DE CONVERGENCE NON RESPECTÉ\n",
      "            dt = 210000.0, alpha*d^2=3750.000000000001, tau = 10500000\n",
      "        ##################################################\n",
      " #######################################################################################################\n",
      "    DÉBUT DU CALCUL \n",
      "    PARAMÈTRES : \n",
      "    - Domaine : 3x3 m \n",
      "    - Abri : True, 1x1 m\n",
      "    - Discrétisation : Pas de 0.05 m avec 61x61 points\n",
      "    - Temps: Évaluation sur 21000000 avec un pas de 210000.0 s sur 100 itérations\n",
      "--------------------------------------------------------------------------------------------------------\n",
      "    Progression :\n"
     ]
    },
    {
     "name": "stderr",
     "output_type": "stream",
     "text": [
      " 99%|█████████▉| 99/100 [00:24<00:00,  4.04it/s]\n"
     ]
    },
    {
     "name": "stdout",
     "output_type": "stream",
     "text": [
      " \n",
      "CALCUL TERMINÉ : ANIMATION SAUVEGARDÉE\n",
      "#######################################################################################################\n",
      "1361.1664654085753\n",
      "589.1475352357062\n",
      "2625.7069162974067\n",
      "50.33899650179644\n"
     ]
    },
    {
     "data": {
      "text/plain": [
       "<Figure size 640x480 with 0 Axes>"
      ]
     },
     "metadata": {},
     "output_type": "display_data"
    }
   ],
   "source": [
    "# imports de nos fonctions (from NOM_DU_FICHIER import NOM_DE_LA_FONCTION)\n",
    "from methode_matrice_2D import methode_matrice_2D_A\n",
    "from methode_matrice_2D import methode_matrice_2D_b\n",
    "from methode_matrice_2D_temporelle import methode_matrice_2D_temporelle\n",
    "\n",
    "from calcul_energie_chauffage import calcul_energie_chauffage\n",
    "from calcul_energie_panneaux import calcul_energie_panneaux\n",
    "from graph_T import graph_T\n",
    "from graph_E_vs_p import graph_E_vs_p\n",
    "from graph_E_vs_taille import graph_E_vs_taille\n",
    "from graph_E_vs_ptaille import graph_E_vs_ptaille\n",
    "\n",
    "#import des fonctions externes\n",
    "import numpy as np\n",
    "import matplotlib.pyplot as plt\n",
    "import yaml\n",
    "from scipy.sparse import csc_matrix\n",
    "from scipy.sparse.linalg import spsolve\n",
    "from scipy.optimize import curve_fit\n",
    "import imageio.v2\n",
    "import os\n",
    "import time\n",
    "from memory_profiler import profile\n",
    "import psutil"
   ]
  },
  {
   "cell_type": "code",
   "execution_count": 7,
   "metadata": {},
   "outputs": [
    {
     "name": "stdout",
     "output_type": "stream",
     "text": [
      " #######################################################################################################\n",
      "    DÉBUT DU CALCUL \n",
      "    PARAMÈTRES : \n",
      "    - Domaine : 10x10 m \n",
      "    - Abri : True, 3x3 m\n",
      "    - Discrétisation : Pas de 0.5 m avec 21x21 points\n",
      "    - Temps: Évaluation sur 167200 avec un pas de 1672.0 s sur 100 itérations\n",
      "--------------------------------------------------------------------------------------------------------\n",
      "    Progression :\n"
     ]
    },
    {
     "name": "stderr",
     "output_type": "stream",
     "text": [
      " 99%|█████████▉| 99/100 [00:16<00:00,  5.95it/s]\n"
     ]
    },
    {
     "name": "stdout",
     "output_type": "stream",
     "text": [
      " \n",
      "CALCUL TERMINÉ : ANIMATION SAUVEGARDÉE\n",
      "#######################################################################################################\n",
      "Peak memory usage: 149172.0 KB\n",
      "Time: 17.6206348 seconds\n",
      " #######################################################################################################\n",
      "    DÉBUT DU CALCUL \n",
      "    PARAMÈTRES : \n",
      "    - Domaine : 10x10 m \n",
      "    - Abri : True, 3x3 m\n",
      "    - Discrétisation : Pas de 0.25 m avec 41x41 points\n",
      "    - Temps: Évaluation sur 167200 avec un pas de 1672.0 s sur 100 itérations\n",
      "--------------------------------------------------------------------------------------------------------\n",
      "    Progression :\n"
     ]
    },
    {
     "name": "stderr",
     "output_type": "stream",
     "text": [
      " 99%|█████████▉| 99/100 [00:18<00:00,  5.24it/s]\n"
     ]
    },
    {
     "name": "stdout",
     "output_type": "stream",
     "text": [
      " \n",
      "CALCUL TERMINÉ : ANIMATION SAUVEGARDÉE\n",
      "#######################################################################################################\n",
      "Peak memory usage: 154428.0 KB\n",
      "Time: 19.8658353 seconds\n",
      " #######################################################################################################\n",
      "    DÉBUT DU CALCUL \n",
      "    PARAMÈTRES : \n",
      "    - Domaine : 10x10 m \n",
      "    - Abri : True, 3x3 m\n",
      "    - Discrétisation : Pas de 0.125 m avec 81x81 points\n",
      "    - Temps: Évaluation sur 167200 avec un pas de 1672.0 s sur 100 itérations\n",
      "--------------------------------------------------------------------------------------------------------\n",
      "    Progression :\n"
     ]
    },
    {
     "name": "stderr",
     "output_type": "stream",
     "text": [
      " 99%|█████████▉| 99/100 [00:31<00:00,  3.16it/s]\n"
     ]
    },
    {
     "name": "stdout",
     "output_type": "stream",
     "text": [
      " \n",
      "CALCUL TERMINÉ : ANIMATION SAUVEGARDÉE\n",
      "#######################################################################################################\n",
      "Peak memory usage: 163740.0 KB\n",
      "Time: 32.5670468 seconds\n",
      " #######################################################################################################\n",
      "    DÉBUT DU CALCUL \n",
      "    PARAMÈTRES : \n",
      "    - Domaine : 10x10 m \n",
      "    - Abri : True, 3x3 m\n",
      "    - Discrétisation : Pas de 0.0625 m avec 161x161 points\n",
      "    - Temps: Évaluation sur 167200 avec un pas de 1672.0 s sur 100 itérations\n",
      "--------------------------------------------------------------------------------------------------------\n",
      "    Progression :\n"
     ]
    },
    {
     "name": "stderr",
     "output_type": "stream",
     "text": [
      " 99%|█████████▉| 99/100 [01:29<00:00,  1.11it/s]\n"
     ]
    },
    {
     "name": "stdout",
     "output_type": "stream",
     "text": [
      " \n",
      "CALCUL TERMINÉ : ANIMATION SAUVEGARDÉE\n",
      "#######################################################################################################\n",
      "Peak memory usage: 178340.0 KB\n",
      "Time: 92.0201809 seconds\n",
      "\n",
      "        ##################################################\n",
      "         ATTENTION! : CRITÈRE DE CONVERGENCE NON RESPECTÉ\n",
      "            dt = 1672.0, alpha*d^2=1318.359375, tau = 83600\n",
      "        ##################################################\n",
      " #######################################################################################################\n",
      "    DÉBUT DU CALCUL \n",
      "    PARAMÈTRES : \n",
      "    - Domaine : 10x10 m \n",
      "    - Abri : True, 3x3 m\n",
      "    - Discrétisation : Pas de 0.03125 m avec 321x321 points\n",
      "    - Temps: Évaluation sur 167200 avec un pas de 1672.0 s sur 100 itérations\n",
      "--------------------------------------------------------------------------------------------------------\n",
      "    Progression :\n"
     ]
    },
    {
     "name": "stderr",
     "output_type": "stream",
     "text": [
      " 99%|█████████▉| 99/100 [06:13<00:03,  3.77s/it]\n"
     ]
    },
    {
     "name": "stdout",
     "output_type": "stream",
     "text": [
      " \n",
      "CALCUL TERMINÉ : ANIMATION SAUVEGARDÉE\n",
      "#######################################################################################################\n",
      "Peak memory usage: 245788.0 KB\n",
      "Time: 380.1150979 seconds\n",
      "\n",
      "        ##################################################\n",
      "         ATTENTION! : CRITÈRE DE CONVERGENCE NON RESPECTÉ\n",
      "            dt = 1672.0, alpha*d^2=329.58984375, tau = 83600\n",
      "        ##################################################\n",
      " #######################################################################################################\n",
      "    DÉBUT DU CALCUL \n",
      "    PARAMÈTRES : \n",
      "    - Domaine : 10x10 m \n",
      "    - Abri : True, 3x3 m\n",
      "    - Discrétisation : Pas de 0.015625 m avec 641x641 points\n",
      "    - Temps: Évaluation sur 167200 avec un pas de 1672.0 s sur 100 itérations\n",
      "--------------------------------------------------------------------------------------------------------\n",
      "    Progression :\n"
     ]
    },
    {
     "name": "stderr",
     "output_type": "stream",
     "text": [
      " 99%|█████████▉| 99/100 [35:41<00:21, 21.63s/it]\n"
     ]
    },
    {
     "name": "stdout",
     "output_type": "stream",
     "text": [
      " \n",
      "CALCUL TERMINÉ : ANIMATION SAUVEGARDÉE\n",
      "#######################################################################################################\n",
      "Peak memory usage: 468600.0 KB\n",
      "Time: 2165.625332 seconds\n"
     ]
    },
    {
     "data": {
      "text/plain": [
       "<Figure size 640x480 with 0 Axes>"
      ]
     },
     "metadata": {},
     "output_type": "display_data"
    }
   ],
   "source": [
    "# Define the function to fit\n",
    "def fit(x, a, b,):\n",
    "    return a * x**b\n",
    "\n",
    "def get_memory_usage():\n",
    "    process = psutil.Process()\n",
    "    return process.memory_info().rss\n",
    "\n",
    "#Constantes\n",
    "with open('constants.yaml') as f:\n",
    "    planets_constants = yaml.safe_load(f)\n",
    "\n",
    "\n",
    "\n",
    "p = 3   # Profondeur de l'abris [m]\n",
    "l_x = l_z = 3 # Largeur de l'abris en x [m] # Hauteur de l'abris en z [m]\n",
    "Lx = Lz = 10 # Largeur du domaine [m] et  Hauteur du domaine [m]\n",
    "d = 0.1  # Pas de discrétisation [m]\n",
    "\n",
    "Nx=int(np.rint(Lx/d+1)) # Nombre de nœuds le long de X\n",
    "Nz=int(np.rint(Lz/d+1)) # Nombre de nœuds le long de Z\n",
    "\n",
    "z = np.linspace(0, Lz, Nz)\n",
    "x= np.linspace(0, Lx, Nx)\n",
    "\n",
    "\n",
    "d_list = [1/2, 1/4, 1/8, 1/16, 1/32, 1/64]\n",
    "t_list = []\n",
    "mem_list = []\n",
    "if __name__ == '__main__':\n",
    "    for i in d_list:\n",
    "        before_memory = 0\n",
    "        before_time = time.time_ns()\n",
    "        methode_matrice_2D_temporelle(planets_constants['earth'], p, l_x, l_z, Lx, Lz, i)\n",
    "        after_memory = get_memory_usage()\n",
    "        after_time = time.time_ns()\n",
    "        peak_time = (after_time-before_time)/1.0e9\n",
    "        peak_memory = after_memory - before_memory\n",
    "        t_list.append(peak_time)\n",
    "        mem_list.append(peak_memory)\n",
    "        print(f\"Peak memory usage: {peak_memory/1024} KB\")\n",
    "        print(f\"Time: {peak_time} seconds\")\n",
    "        "
   ]
  },
  {
   "cell_type": "code",
   "execution_count": 9,
   "metadata": {},
   "outputs": [
    {
     "name": "stderr",
     "output_type": "stream",
     "text": [
      "C:\\Users\\franc\\AppData\\Local\\Packages\\PythonSoftwareFoundation.Python.3.9_qbz5n2kfra8p0\\LocalCache\\local-packages\\Python39\\site-packages\\scipy\\optimize\\_minpack_py.py:1010: OptimizeWarning: Covariance of the parameters could not be estimated\n",
      "  warnings.warn('Covariance of the parameters could not be estimated',\n",
      "No artists with labels found to put in legend.  Note that artists whose label start with an underscore are ignored when legend() is called with no argument.\n"
     ]
    },
    {
     "data": {
      "image/png": "[encoded data removed]",
      "text/plain": [
       "<Figure size 640x480 with 1 Axes>"
      ]
     },
     "metadata": {},
     "output_type": "display_data"
    },
    {
     "name": "stderr",
     "output_type": "stream",
     "text": [
      "No artists with labels found to put in legend.  Note that artists whose label start with an underscore are ignored when legend() is called with no argument.\n"
     ]
    },
    {
     "data": {
      "image/png": "[encoded data removed]",
      "text/plain": [
       "<Figure size 640x480 with 1 Axes>"
      ]
     },
     "metadata": {},
     "output_type": "display_data"
    }
   ],
   "source": [
    "poptmem, pcov = curve_fit(fit, (d_list), (mem_list))\n",
    "a_mem, b_mem = poptmem\n",
    "mem_list_fit = fit(d_list, a_mem, b_mem)\n",
    "\n",
    "plt.figure(2)    \n",
    "plt.loglog((d_list), (mem_list), 'o')\n",
    "# plt.loglog((d_list), mem_list_fit, '--', label = f\"fit lineaire: $Mem = {a_mem:.2f})\\delta^{{{b_mem:.2f}}}$\")\n",
    "plt.legend()\n",
    "plt.xlabel('pas de discrétisation')\n",
    "plt.ylabel('mémoire utilisée (kB)')\n",
    "plt.title('Mémoire utilisée en fonction du pas de discrétisation')\n",
    "plt.savefig('memoryEval.png')\n",
    "plt.show()\n",
    "\n",
    "popt, pcov = curve_fit(fit, (d_list), (t_list))\n",
    "a_t, b_t = popt\n",
    "t_list_fit = fit(d_list, a_t, b_t)\n",
    "\n",
    "\n",
    "plt.figure(3)\n",
    "plt.loglog((d_list),(t_list), 'o')\n",
    "# plt.loglog((d_list), t_list_fit, '--', label = f\"fit lineaire: $t = ({a_t:.2e})\\delta^{{{b_t:.2f}}}$\")\n",
    "plt.legend()\n",
    "plt.xlabel('pas de discrétisation (m)')\n",
    "plt.ylabel('temps de calcul (s)')\n",
    "plt.title('Temps de calcul en fonction du pas de discrétisation')\n",
    "plt.savefig('timeEval.png')\n",
    "plt.show()"
   ]
  }
 ],
 "metadata": {
  "kernelspec": {
   "display_name": "Python 3",
   "language": "python",
   "name": "python3"
  },
  "language_info": {
   "codemirror_mode": {
    "name": "ipython",
    "version": 3
   },
   "file_extension": ".py",
   "mimetype": "text/x-python",
   "name": "python",
   "nbconvert_exporter": "python",
   "pygments_lexer": "ipython3",
   "version": "3.9.13"
  }
 },
 "nbformat": 4,
 "nbformat_minor": 2
}
